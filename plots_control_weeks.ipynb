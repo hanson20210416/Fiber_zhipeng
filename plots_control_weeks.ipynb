{
 "cells": [
  {
   "cell_type": "code",
   "execution_count": 1,
   "metadata": {},
   "outputs": [
    {
     "ename": "ModuleNotFoundError",
     "evalue": "No module named 'measurements'",
     "output_type": "error",
     "traceback": [
      "\u001b[0;31m---------------------------------------------------------------------------\u001b[0m",
      "\u001b[0;31mModuleNotFoundError\u001b[0m                       Traceback (most recent call last)",
      "Cell \u001b[0;32mIn[1], line 4\u001b[0m\n\u001b[1;32m      2\u001b[0m \u001b[38;5;28;01mimport\u001b[39;00m \u001b[38;5;21;01mpandas\u001b[39;00m \u001b[38;5;28;01mas\u001b[39;00m \u001b[38;5;21;01mpd\u001b[39;00m\n\u001b[1;32m      3\u001b[0m \u001b[38;5;28;01mimport\u001b[39;00m \u001b[38;5;21;01myaml\u001b[39;00m\n\u001b[0;32m----> 4\u001b[0m \u001b[38;5;28;01mfrom\u001b[39;00m \u001b[38;5;21;01mmeasurements\u001b[39;00m \u001b[38;5;28;01mimport\u001b[39;00m measurements_processing\n\u001b[1;32m      6\u001b[0m \u001b[38;5;28;01mwith\u001b[39;00m \u001b[38;5;28mopen\u001b[39m(\u001b[38;5;124m'\u001b[39m\u001b[38;5;124mconfig.yaml\u001b[39m\u001b[38;5;124m'\u001b[39m, \u001b[38;5;124m\"\u001b[39m\u001b[38;5;124mr\u001b[39m\u001b[38;5;124m\"\u001b[39m) \u001b[38;5;28;01mas\u001b[39;00m stream:\n\u001b[1;32m      7\u001b[0m     config \u001b[38;5;241m=\u001b[39m yaml\u001b[38;5;241m.\u001b[39msafe_load(stream)\n",
      "\u001b[0;31mModuleNotFoundError\u001b[0m: No module named 'measurements'"
     ]
    }
   ],
   "source": [
    "# imports\n",
    "import pandas as pd\n",
    "import yaml\n",
    "from measurements import measurements_processing\n",
    "\n",
    "with open('config.yaml', \"r\") as stream:\n",
    "    config = yaml.safe_load(stream)\n",
    "\n",
    "# read data\n",
    "df_measurements_raw = pd.read_excel(config[\"measurements\"], header=0)\n",
    "\n",
    "# obtain dataframe\n",
    "df_measurements = measurements_processing(df_measurements_raw)"
   ]
  },
  {
   "cell_type": "code",
   "execution_count": 2,
   "metadata": {},
   "outputs": [
    {
     "ename": "NameError",
     "evalue": "name 'df_measurements' is not defined",
     "output_type": "error",
     "traceback": [
      "\u001b[0;31m---------------------------------------------------------------------------\u001b[0m",
      "\u001b[0;31mNameError\u001b[0m                                 Traceback (most recent call last)",
      "Cell \u001b[0;32mIn[2], line 27\u001b[0m\n\u001b[1;32m     24\u001b[0m         plots\u001b[38;5;241m.\u001b[39mappend(p)\n\u001b[1;32m     25\u001b[0m         show(p)\n\u001b[0;32m---> 27\u001b[0m make_plot(df_measurements, \u001b[38;5;124m'\u001b[39m\u001b[38;5;124mFasting blood glucose\u001b[39m\u001b[38;5;124m'\u001b[39m, units)\n",
      "\u001b[0;31mNameError\u001b[0m: name 'df_measurements' is not defined"
     ]
    }
   ],
   "source": [
    "from math import pi\n",
    "from bokeh.io import show, reset_output\n",
    "from bokeh.plotting import figure\n",
    "from bokeh.palettes import Turbo256\n",
    "from bokeh.models import DatetimeTickFormatter\n",
    "import random\n",
    "\n",
    "units = {'Fasting blood glucose':'mmol/L', 'Body weight':'kg', 'Systolic blood pressure':'mmHg', 'Diastolic blood pressure':'mmHg'}\n",
    "plots = []\n",
    "\n",
    "def make_plot(df, variable, dict_units):\n",
    "    for id in df.ID.unique():\n",
    "        reset_output()\n",
    "        data = df[df.ID == id]\n",
    "        p = figure(title=f'{variable} per day', x_axis_label='Date', y_axis_label=f'{variable} ({dict_units[variable]})')\n",
    "        p.xaxis.formatter=DatetimeTickFormatter(days=[\"%d/%m\"])\n",
    "        p.xaxis.major_label_orientation = pi/4\n",
    "        if variable == 'Systolic blood pressure' or variable == 'Diastolic blood pressure':\n",
    "            p.line(x=\"Date\", y=f'{variable} (morning)', source=data, color='blue', legend_label='Morning')\n",
    "            p.line(x=\"Date\", y=f'{variable} (evening)', source=data, color='green', legend_label='Evening')\n",
    "        else:\n",
    "            p.line(x=\"Date\", y=variable, source=data, color=random.choice(Turbo256))\n",
    "        p.legend.location = \"top_left\"\n",
    "        plots.append(p)\n",
    "        show(p)\n",
    "\n",
    "make_plot(df_measurements, 'Fasting blood glucose', units)"
   ]
  },
  {
   "cell_type": "code",
   "execution_count": null,
   "metadata": {},
   "outputs": [],
   "source": []
  },
  {
   "cell_type": "code",
   "execution_count": null,
   "metadata": {},
   "outputs": [],
   "source": []
  }
 ],
 "metadata": {
  "kernelspec": {
   "display_name": "Python 3 (ipykernel)",
   "language": "python",
   "name": "python3"
  },
  "language_info": {
   "codemirror_mode": {
    "name": "ipython",
    "version": 3
   },
   "file_extension": ".py",
   "mimetype": "text/x-python",
   "name": "python",
   "nbconvert_exporter": "python",
   "pygments_lexer": "ipython3",
   "version": "3.11.4"
  }
 },
 "nbformat": 4,
 "nbformat_minor": 2
}
